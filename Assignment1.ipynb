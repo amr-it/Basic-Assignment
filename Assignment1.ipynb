Q1. In the below elements which of them are values or an expression? eg:- values can be integer or string and expressions will be mathematical operators.


* is an expression 
'Hello' is a String-Type Value.
-87.8 is a Floating-Type Value.
-is an expression. 
/ is an expression.
+ is an expression. 
6 is an Integer-Type Value.



Q2. What is the difference between string and variable ?

String is a data type, which is an object of Class String, while, variable is an entity where you store data and it can be a string variable, integer variable, etc.

Q3. Describe 3 different data types.

Numeric Data Types > They hold data in numeric format. Examples of this are int, float & complex. 
Sequence Data Types > list, tuple, range 
Mapping Data Type > dict

Q4. What is an expression made up of? What do all expressions do?

An expression is a combination of operators and operands that is interpreted to produce some value. For Example, 3 + 2 Here, 3 and 2 are operands while + is an operator.

Q5. This assignment statements, like spam = 10. What is the difference between an expression and a statement?

An expression is a combination of values and functions that are combined and interpreted by the compiler to create a new value, as opposed to a “statement” which is just a standalone unit of execution and doesn't return anything.

Q6. After running the following code, what does the variable bacon contain? 

bacon = 22 bacon + 1
bacon still holds the value 22 as bacon + 1 was not stored in bacon

Q7. What should the values of the following two terms be? 'spam' + 'spamspam' 'spam'*3

'spamspamspam' 'spamspamspam'

Q8. Why is eggs a valid variable name while 100 is invalid?

A variable name must start with a letter or the underscore character. A variable name cannot start with a number. A variable name can only contain alpha-numeric characters and underscores (A-z, 0-9, and _ )

Q9. What three functions can be used to get the integer, floating-point number, or string version of a value?

Int(), str() and float()

Q10. Why does this expression cause an error? How can you fix it? 'I have eaten' + 99 + ' burritos.'

It causes an error because you can only concatenate string with string and not int(in this case, 99). To fix it, either typecast 99 to string or use 99 as '99'.

'I have eaten' + '99' + ' burritos.' 
'I have eaten' + str(99) + ' burritos.'